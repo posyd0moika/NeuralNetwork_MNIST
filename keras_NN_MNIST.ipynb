{
 "cells": [
  {
   "cell_type": "code",
   "execution_count": 1,
   "metadata": {
    "collapsed": true
   },
   "outputs": [],
   "source": [
    "from tensorflow import keras\n",
    "from tensorflow.keras.layers import Dense, Input, Flatten\n",
    "import tensorflow as tf\n",
    "from tensorflow.keras.datasets import mnist\n",
    "from tensorflow.keras.utils import to_categorical\n",
    "import os\n",
    "from tensorflow.keras.optimizers.legacy import Adam\n",
    "\n",
    "os.environ['TF_CPP_MIN_LOG_LEVEL'] = '2'"
   ]
  },
  {
   "cell_type": "code",
   "execution_count": 2,
   "outputs": [],
   "source": [
    "(x_train, y_train), (x_test, y_test) = mnist.load_data()"
   ],
   "metadata": {
    "collapsed": false
   }
  },
  {
   "cell_type": "code",
   "execution_count": 3,
   "outputs": [
    {
     "name": "stdout",
     "output_type": "stream",
     "text": [
      "Model: \"sequential\"\n",
      "_________________________________________________________________\n",
      " Layer (type)                Output Shape              Param #   \n",
      "=================================================================\n",
      " flatten (Flatten)           (None, 784)               0         \n",
      "                                                                 \n",
      " hidden_1 (Dense)            (None, 128)               100480    \n",
      "                                                                 \n",
      " output (Dense)              (None, 10)                1290      \n",
      "                                                                 \n",
      "=================================================================\n",
      "Total params: 101,770\n",
      "Trainable params: 101,770\n",
      "Non-trainable params: 0\n",
      "_________________________________________________________________\n"
     ]
    }
   ],
   "source": [
    "model = keras.Sequential()\n",
    "model.add(Flatten(input_shape=(28, 28, 1)))\n",
    "model.add(Dense(128, activation=\"relu\", name=\"hidden_1\"))\n",
    "model.add(Dense(10, activation=\"softmax\", name=\"output\"))\n",
    "model.summary()"
   ],
   "metadata": {
    "collapsed": false
   }
  },
  {
   "cell_type": "code",
   "execution_count": 4,
   "outputs": [
    {
     "name": "stdout",
     "output_type": "stream",
     "text": [
      "1444/1444 [==============================] - 1s 800us/step - loss: 0.6457 - accuracy: 0.8115\n",
      "1444/1444 [==============================] - 1s 724us/step - loss: 0.2774 - accuracy: 0.9208\n",
      "1444/1444 [==============================] - 1s 743us/step - loss: 0.1952 - accuracy: 0.9435\n",
      "1444/1444 [==============================] - 1s 700us/step - loss: 0.1072 - accuracy: 0.9683\n",
      "1444/1444 [==============================] - 1s 702us/step - loss: 0.1577 - accuracy: 0.9564\n",
      "1444/1444 [==============================] - 1s 697us/step - loss: 0.1069 - accuracy: 0.9695\n",
      "1444/1444 [==============================] - 1s 709us/step - loss: 0.1030 - accuracy: 0.9692\n",
      "1444/1444 [==============================] - 1s 763us/step - loss: 0.1211 - accuracy: 0.9649\n",
      "1444/1444 [==============================] - 1s 892us/step - loss: 0.1205 - accuracy: 0.9645\n",
      "1444/1444 [==============================] - 1s 683us/step - loss: 0.1181 - accuracy: 0.9645\n",
      "1444/1444 [==============================] - 1s 757us/step - loss: 0.0960 - accuracy: 0.9712\n",
      "1444/1444 [==============================] - 1s 792us/step - loss: 0.1676 - accuracy: 0.9536\n",
      "1444/1444 [==============================] - 1s 771us/step - loss: 0.1192 - accuracy: 0.9638\n",
      "1444/1444 [==============================] - 1s 772us/step - loss: 0.1267 - accuracy: 0.9627\n",
      "1444/1444 [==============================] - 1s 873us/step - loss: 0.2016 - accuracy: 0.9401\n",
      "1444/1444 [==============================] - 1s 788us/step - loss: 0.1003 - accuracy: 0.9688\n",
      "1444/1444 [==============================] - 1s 1ms/step - loss: 0.0696 - accuracy: 0.9791\n",
      "1444/1444 [==============================] - 2s 1ms/step - loss: 0.0723 - accuracy: 0.9781\n",
      "1444/1444 [==============================] - 1s 810us/step - loss: 0.0764 - accuracy: 0.9771\n",
      "1444/1444 [==============================] - 1s 671us/step - loss: 0.0917 - accuracy: 0.9715\n",
      "1444/1444 [==============================] - 1s 658us/step - loss: 0.0604 - accuracy: 0.9807\n",
      "1444/1444 [==============================] - 1s 677us/step - loss: 0.1223 - accuracy: 0.9610\n",
      "1444/1444 [==============================] - 1s 769us/step - loss: 0.0724 - accuracy: 0.9785\n",
      "1444/1444 [==============================] - 1s 843us/step - loss: 0.1038 - accuracy: 0.9685\n",
      "1444/1444 [==============================] - 1s 796us/step - loss: 0.0932 - accuracy: 0.9728\n",
      "1444/1444 [==============================] - 1s 823us/step - loss: 0.0793 - accuracy: 0.9761\n",
      "1444/1444 [==============================] - 1s 656us/step - loss: 0.1148 - accuracy: 0.9659\n",
      "1444/1444 [==============================] - 1s 727us/step - loss: 0.0768 - accuracy: 0.9782\n",
      "1444/1444 [==============================] - 1s 780us/step - loss: 0.0799 - accuracy: 0.9745\n",
      "1444/1444 [==============================] - 1s 797us/step - loss: 0.1131 - accuracy: 0.9671\n",
      "1444/1444 [==============================] - 1s 737us/step - loss: 0.0857 - accuracy: 0.9746\n",
      "1444/1444 [==============================] - 1s 765us/step - loss: 0.0540 - accuracy: 0.9835\n",
      "1444/1444 [==============================] - 1s 813us/step - loss: 0.0723 - accuracy: 0.9792\n",
      "1444/1444 [==============================] - 1s 781us/step - loss: 0.1129 - accuracy: 0.9675\n",
      "1444/1444 [==============================] - 1s 784us/step - loss: 0.0895 - accuracy: 0.9760\n",
      "1444/1444 [==============================] - 1s 799us/step - loss: 0.0522 - accuracy: 0.9835\n",
      "1444/1444 [==============================] - 1s 781us/step - loss: 0.0549 - accuracy: 0.9825\n",
      "1444/1444 [==============================] - 1s 766us/step - loss: 0.0985 - accuracy: 0.9709\n",
      "1444/1444 [==============================] - 1s 796us/step - loss: 0.0569 - accuracy: 0.9830\n",
      "1444/1444 [==============================] - 1s 749us/step - loss: 0.0739 - accuracy: 0.9789\n",
      "1444/1444 [==============================] - 1s 799us/step - loss: 0.0865 - accuracy: 0.9755\n",
      "1444/1444 [==============================] - 1s 999us/step - loss: 0.0911 - accuracy: 0.9726\n",
      "1444/1444 [==============================] - 1s 757us/step - loss: 0.0852 - accuracy: 0.9767\n",
      "1444/1444 [==============================] - 1s 646us/step - loss: 0.0720 - accuracy: 0.9770\n",
      "1444/1444 [==============================] - 1s 711us/step - loss: 0.0970 - accuracy: 0.9714\n",
      "1444/1444 [==============================] - 1s 772us/step - loss: 0.0751 - accuracy: 0.9774\n",
      "1444/1444 [==============================] - 1s 623us/step - loss: 0.0543 - accuracy: 0.9832\n",
      "1444/1444 [==============================] - 1s 641us/step - loss: 0.0886 - accuracy: 0.9744\n",
      "1444/1444 [==============================] - 1s 612us/step - loss: 0.0860 - accuracy: 0.9731\n",
      "1444/1444 [==============================] - 1s 652us/step - loss: 0.0929 - accuracy: 0.9731\n",
      "1444/1444 [==============================] - 1s 622us/step - loss: 0.0615 - accuracy: 0.9798\n",
      "1444/1444 [==============================] - 1s 663us/step - loss: 0.0783 - accuracy: 0.9768\n",
      "1444/1444 [==============================] - 1s 759us/step - loss: 0.1093 - accuracy: 0.9689\n",
      "1444/1444 [==============================] - 1s 603us/step - loss: 0.0860 - accuracy: 0.9745\n",
      "1444/1444 [==============================] - 1s 641us/step - loss: 0.0689 - accuracy: 0.9810\n",
      "1444/1444 [==============================] - 1s 740us/step - loss: 0.0500 - accuracy: 0.9852\n",
      "1444/1444 [==============================] - 1s 742us/step - loss: 0.0545 - accuracy: 0.9849\n",
      "1444/1444 [==============================] - 1s 721us/step - loss: 0.0960 - accuracy: 0.9742\n",
      "1444/1444 [==============================] - 1s 798us/step - loss: 0.0657 - accuracy: 0.9803\n",
      "1444/1444 [==============================] - 1s 760us/step - loss: 0.0742 - accuracy: 0.9770\n",
      "1444/1444 [==============================] - 1s 806us/step - loss: 0.0660 - accuracy: 0.9810\n",
      "1444/1444 [==============================] - 1s 841us/step - loss: 0.0898 - accuracy: 0.9760\n",
      "1444/1444 [==============================] - 1s 870us/step - loss: 0.1027 - accuracy: 0.9702\n",
      "1444/1444 [==============================] - 1s 714us/step - loss: 0.0552 - accuracy: 0.9831\n",
      "1444/1444 [==============================] - 1s 650us/step - loss: 0.0509 - accuracy: 0.9851\n",
      "1444/1444 [==============================] - 1s 649us/step - loss: 0.0865 - accuracy: 0.9745\n",
      "1444/1444 [==============================] - 1s 631us/step - loss: 0.0633 - accuracy: 0.9817\n",
      "1444/1444 [==============================] - 2s 1ms/step - loss: 0.0717 - accuracy: 0.9801\n",
      "1444/1444 [==============================] - 2s 1ms/step - loss: 0.0866 - accuracy: 0.9757\n",
      "1444/1444 [==============================] - 2s 2ms/step - loss: 0.0864 - accuracy: 0.9769\n",
      "1444/1444 [==============================] - 2s 2ms/step - loss: 0.0753 - accuracy: 0.9773\n",
      "1444/1444 [==============================] - 2s 2ms/step - loss: 0.1049 - accuracy: 0.9711\n",
      "1444/1444 [==============================] - 3s 2ms/step - loss: 0.0570 - accuracy: 0.9846\n",
      "1444/1444 [==============================] - 2s 2ms/step - loss: 0.0738 - accuracy: 0.9787\n",
      "1444/1444 [==============================] - 1s 783us/step - loss: 0.0568 - accuracy: 0.9842\n",
      "1444/1444 [==============================] - 1s 696us/step - loss: 0.0499 - accuracy: 0.9832\n",
      "1444/1444 [==============================] - 1s 669us/step - loss: 0.0759 - accuracy: 0.9770\n",
      "1444/1444 [==============================] - 1s 641us/step - loss: 0.1180 - accuracy: 0.9674\n",
      "1444/1444 [==============================] - 1s 934us/step - loss: 0.0837 - accuracy: 0.9749\n",
      "1444/1444 [==============================] - 1s 653us/step - loss: 0.1025 - accuracy: 0.9710\n",
      "1444/1444 [==============================] - 1s 661us/step - loss: 0.0676 - accuracy: 0.9794\n",
      "1444/1444 [==============================] - 1s 642us/step - loss: 0.0762 - accuracy: 0.9780\n",
      "1444/1444 [==============================] - 1s 665us/step - loss: 0.0732 - accuracy: 0.9775\n",
      "1444/1444 [==============================] - 1s 696us/step - loss: 0.0826 - accuracy: 0.9775\n",
      "1444/1444 [==============================] - 1s 671us/step - loss: 0.0679 - accuracy: 0.9790\n",
      "1444/1444 [==============================] - 1s 758us/step - loss: 0.0608 - accuracy: 0.9830\n",
      "1444/1444 [==============================] - 1s 661us/step - loss: 0.0634 - accuracy: 0.9812\n",
      "1444/1444 [==============================] - 1s 655us/step - loss: 0.0555 - accuracy: 0.9839\n",
      "1444/1444 [==============================] - 1s 650us/step - loss: 0.0955 - accuracy: 0.9729\n",
      "1444/1444 [==============================] - 1s 643us/step - loss: 0.0806 - accuracy: 0.9760\n",
      "1444/1444 [==============================] - 1s 674us/step - loss: 0.0573 - accuracy: 0.9838\n",
      "1444/1444 [==============================] - 1s 673us/step - loss: 0.0541 - accuracy: 0.9839\n",
      "1444/1444 [==============================] - 1s 648us/step - loss: 0.0658 - accuracy: 0.9813\n",
      "1444/1444 [==============================] - 1s 777us/step - loss: 0.0596 - accuracy: 0.9820\n",
      "1444/1444 [==============================] - 1s 653us/step - loss: 0.0525 - accuracy: 0.9846\n",
      "1444/1444 [==============================] - 1s 636us/step - loss: 0.0476 - accuracy: 0.9843\n",
      "1444/1444 [==============================] - 1s 653us/step - loss: 0.0484 - accuracy: 0.9862\n",
      "1444/1444 [==============================] - 1s 658us/step - loss: 0.0199 - accuracy: 0.9936\n",
      "1444/1444 [==============================] - 1s 758us/step - loss: 0.0242 - accuracy: 0.9932\n",
      "1444/1444 [==============================] - 1s 662us/step - loss: 0.0657 - accuracy: 0.9826\n"
     ]
    }
   ],
   "source": [
    "import extensionbase\n",
    "\n",
    "model.compile(optimizer=Adam(),\n",
    "              metrics=[\"accuracy\"],\n",
    "              loss=\"categorical_crossentropy\")\n",
    "gen = extensionbase.gen_extension_base(x_train, y_train)\n",
    "\n",
    "for _ in range(100):\n",
    "    x, y = next(gen)\n",
    "    model.fit(x, y, batch_size=32)\n"
   ],
   "metadata": {
    "collapsed": false
   }
  },
  {
   "cell_type": "code",
   "execution_count": 5,
   "outputs": [],
   "source": [
    "model.save(\"Model_ex_256\", save_format=\"h5\")"
   ],
   "metadata": {
    "collapsed": false
   }
  },
  {
   "cell_type": "markdown",
   "source": [],
   "metadata": {
    "collapsed": false
   }
  },
  {
   "cell_type": "code",
   "execution_count": 6,
   "outputs": [
    {
     "name": "stdout",
     "output_type": "stream",
     "text": [
      "1875/1875 [==============================] - 1s 417us/step - loss: 62.3140 - accuracy: 0.9399\n"
     ]
    },
    {
     "data": {
      "text/plain": "[62.31397247314453, 0.9399333596229553]"
     },
     "execution_count": 6,
     "metadata": {},
     "output_type": "execute_result"
    }
   ],
   "source": [
    "model.evaluate(x_train, to_categorical(y_train, 10))"
   ],
   "metadata": {
    "collapsed": false
   }
  }
 ],
 "metadata": {
  "kernelspec": {
   "display_name": "Python 3",
   "language": "python",
   "name": "python3"
  },
  "language_info": {
   "codemirror_mode": {
    "name": "ipython",
    "version": 2
   },
   "file_extension": ".py",
   "mimetype": "text/x-python",
   "name": "python",
   "nbconvert_exporter": "python",
   "pygments_lexer": "ipython2",
   "version": "2.7.6"
  }
 },
 "nbformat": 4,
 "nbformat_minor": 0
}
