{
 "cells": [
  {
   "cell_type": "code",
   "execution_count": 1,
   "metadata": {
    "collapsed": true,
    "pycharm": {
     "name": "#%%\n"
    }
   },
   "outputs": [],
   "source": [
    "from tensorflow import keras\n",
    "from tensorflow.keras.layers import Dense, Input,Flatten\n",
    "import tensorflow as tf\n",
    "from tensorflow.keras.datasets import mnist\n",
    "from tensorflow.keras.utils import to_categorical\n",
    "import os\n",
    "\n",
    "os.environ['TF_CPP_MIN_LOG_LEVEL'] = '2'"
   ]
  },
  {
   "cell_type": "code",
   "execution_count": 18,
   "outputs": [],
   "source": [
    "(x_train, y_train), (x_test, y_test) = mnist.load_data()\n",
    "x_train = x_train / 255\n",
    "x_test = x_test / 255\n",
    "y_train = to_categorical(y_train, 10)\n",
    "y_train_cat = to_categorical(y_test, 10)"
   ],
   "metadata": {
    "collapsed": false,
    "pycharm": {
     "name": "#%%\n"
    }
   }
  },
  {
   "cell_type": "code",
   "execution_count": 19,
   "outputs": [
    {
     "name": "stdout",
     "output_type": "stream",
     "text": [
      "Model: \"sequential_10\"\n",
      "_________________________________________________________________\n",
      " Layer (type)                Output Shape              Param #   \n",
      "=================================================================\n",
      " flatten_10 (Flatten)        (None, 784)               0         \n",
      "                                                                 \n",
      " hidden_1 (Dense)            (None, 128)               100480    \n",
      "                                                                 \n",
      " hidden_2 (Dense)            (None, 32)                4128      \n",
      "                                                                 \n",
      " output (Dense)              (None, 10)                330       \n",
      "                                                                 \n",
      "=================================================================\n",
      "Total params: 104,938\n",
      "Trainable params: 104,938\n",
      "Non-trainable params: 0\n",
      "_________________________________________________________________\n"
     ]
    }
   ],
   "source": [
    "model = keras.Sequential([\n",
    "    Flatten(input_shape=(28,28,1)),\n",
    "    Dense(128,activation=\"relu\",name=\"hidden_1\"),\n",
    "    Dense(32,activation=\"relu\",name=\"hidden_2\"),\n",
    "    Dense(10,activation=\"softmax\",name=\"output\")\n",
    "])\n",
    "\n",
    "model.summary()"
   ],
   "metadata": {
    "collapsed": false,
    "pycharm": {
     "name": "#%%\n"
    }
   }
  },
  {
   "cell_type": "code",
   "execution_count": 25,
   "outputs": [
    {
     "name": "stdout",
     "output_type": "stream",
     "text": [
      "Epoch 1/10\n",
      "1688/1688 [==============================] - 6s 3ms/step - loss: 0.0268 - accuracy: 0.9944 - val_loss: 0.1476 - val_accuracy: 0.9768\n",
      "Epoch 2/10\n",
      "1688/1688 [==============================] - 4s 3ms/step - loss: 0.0130 - accuracy: 0.9963 - val_loss: 0.1486 - val_accuracy: 0.9777\n",
      "Epoch 3/10\n",
      "1688/1688 [==============================] - 4s 3ms/step - loss: 0.0094 - accuracy: 0.9975 - val_loss: 0.1441 - val_accuracy: 0.9770\n",
      "Epoch 4/10\n",
      "1688/1688 [==============================] - 4s 3ms/step - loss: 0.0106 - accuracy: 0.9969 - val_loss: 0.1448 - val_accuracy: 0.9765\n",
      "Epoch 5/10\n",
      "1688/1688 [==============================] - 5s 3ms/step - loss: 0.0071 - accuracy: 0.9977 - val_loss: 0.1310 - val_accuracy: 0.9803\n",
      "Epoch 6/10\n",
      "1688/1688 [==============================] - 7s 4ms/step - loss: 0.0080 - accuracy: 0.9975 - val_loss: 0.1569 - val_accuracy: 0.9798\n",
      "Epoch 7/10\n",
      "1688/1688 [==============================] - 5s 3ms/step - loss: 0.0085 - accuracy: 0.9973 - val_loss: 0.1845 - val_accuracy: 0.9765\n",
      "Epoch 8/10\n",
      "1688/1688 [==============================] - 5s 3ms/step - loss: 0.0076 - accuracy: 0.9977 - val_loss: 0.1573 - val_accuracy: 0.9772\n",
      "Epoch 9/10\n",
      "1688/1688 [==============================] - 5s 3ms/step - loss: 0.0072 - accuracy: 0.9977 - val_loss: 0.1611 - val_accuracy: 0.9785\n",
      "Epoch 10/10\n",
      "1688/1688 [==============================] - 5s 3ms/step - loss: 0.0070 - accuracy: 0.9978 - val_loss: 0.1551 - val_accuracy: 0.9788\n"
     ]
    },
    {
     "data": {
      "text/plain": "<keras.callbacks.History at 0x1f54fc6ed10>"
     },
     "execution_count": 25,
     "metadata": {},
     "output_type": "execute_result"
    }
   ],
   "source": [
    "model.compile(optimizer=\"adam\",\n",
    "              loss=\"categorical_crossentropy\",\n",
    "              metrics=[\"accuracy\"])\n",
    "model.fit(x_train,y_train,batch_size=32,epochs=10,validation_split=0.1)"
   ],
   "metadata": {
    "collapsed": false,
    "pycharm": {
     "name": "#%%\n"
    }
   }
  },
  {
   "cell_type": "code",
   "execution_count": 26,
   "outputs": [
    {
     "name": "stderr",
     "output_type": "stream",
     "text": [
      "WARNING:absl:Found untraced functions such as _update_step_xla while saving (showing 1 of 1). These functions will not be directly callable after loading.\n"
     ]
    },
    {
     "name": "stdout",
     "output_type": "stream",
     "text": [
      "INFO:tensorflow:Assets written to: Model_128_32\\assets\n"
     ]
    },
    {
     "name": "stderr",
     "output_type": "stream",
     "text": [
      "INFO:tensorflow:Assets written to: Model_128_32\\assets\n"
     ]
    }
   ],
   "source": [
    "model.save(\"Model_128_32\")"
   ],
   "metadata": {
    "collapsed": false,
    "pycharm": {
     "name": "#%%\n"
    }
   }
  },
  {
   "cell_type": "code",
   "execution_count": 24,
   "outputs": [
    {
     "name": "stdout",
     "output_type": "stream",
     "text": [
      "313/313 [==============================] - 1s 2ms/step - loss: 0.1487 - accuracy: 0.9783\n"
     ]
    },
    {
     "data": {
      "text/plain": "[0.14874929189682007, 0.9782999753952026]"
     },
     "execution_count": 24,
     "metadata": {},
     "output_type": "execute_result"
    }
   ],
   "source": [
    "model.evaluate(x_test,y_train_cat)"
   ],
   "metadata": {
    "collapsed": false,
    "pycharm": {
     "name": "#%%\n"
    }
   }
  },
  {
   "cell_type": "code",
   "execution_count": 45,
   "outputs": [],
   "source": [],
   "metadata": {
    "collapsed": false,
    "pycharm": {
     "name": "#%%\n"
    }
   }
  }
 ],
 "metadata": {
  "kernelspec": {
   "display_name": "Python 3",
   "language": "python",
   "name": "python3"
  },
  "language_info": {
   "codemirror_mode": {
    "name": "ipython",
    "version": 2
   },
   "file_extension": ".py",
   "mimetype": "text/x-python",
   "name": "python",
   "nbconvert_exporter": "python",
   "pygments_lexer": "ipython2",
   "version": "2.7.6"
  }
 },
 "nbformat": 4,
 "nbformat_minor": 0
}