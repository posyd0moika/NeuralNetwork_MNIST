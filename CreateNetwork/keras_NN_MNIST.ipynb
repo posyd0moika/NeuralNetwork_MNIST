{
 "cells": [
  {
   "cell_type": "code",
   "execution_count": 1,
   "metadata": {
    "collapsed": true
   },
   "outputs": [],
   "source": [
    "from tensorflow import keras\n",
    "from tensorflow.keras.layers import Dense, Input, Flatten\n",
    "import tensorflow as tf\n",
    "from tensorflow.keras.datasets import mnist\n",
    "from tensorflow.keras.utils import to_categorical\n",
    "import os\n",
    "from tensorflow.keras.optimizers.legacy import Adam\n",
    "\n",
    "os.environ['TF_CPP_MIN_LOG_LEVEL'] = '2'"
   ]
  },
  {
   "cell_type": "code",
   "execution_count": 2,
   "outputs": [],
   "source": [
    "(x_train, y_train), (x_test, y_test) = mnist.load_data()"
   ],
   "metadata": {
    "collapsed": false
   }
  },
  {
   "cell_type": "code",
   "execution_count": 3,
   "outputs": [
    {
     "name": "stdout",
     "output_type": "stream",
     "text": [
      "Model: \"sequential\"\n",
      "_________________________________________________________________\n",
      " Layer (type)                Output Shape              Param #   \n",
      "=================================================================\n",
      " flatten (Flatten)           (None, 784)               0         \n",
      "                                                                 \n",
      " hidden_1 (Dense)            (None, 128)               100480    \n",
      "                                                                 \n",
      " output (Dense)              (None, 10)                1290      \n",
      "                                                                 \n",
      "=================================================================\n",
      "Total params: 101,770\n",
      "Trainable params: 101,770\n",
      "Non-trainable params: 0\n",
      "_________________________________________________________________\n"
     ]
    }
   ],
   "source": [
    "model = keras.Sequential()\n",
    "model.add(Flatten(input_shape=(28, 28, 1)))\n",
    "model.add(Dense(128, activation=\"relu\", name=\"hidden_1\"))\n",
    "model.add(Dense(10, activation=\"softmax\", name=\"output\"))\n",
    "model.summary()"
   ],
   "metadata": {
    "collapsed": false
   }
  },
  {
   "cell_type": "code",
   "execution_count": null,
   "outputs": [
    {
     "name": "stderr",
     "output_type": "stream",
     "text": [
      "/var/folders/p8/hs842n8x29x1xnhy3skzz61h0000gn/T/ipykernel_11352/81201269.py:8: UserWarning: `Model.fit_generator` is deprecated and will be removed in a future version. Please use `Model.fit`, which supports generators.\n",
      "  model.fit_generator(gen,epochs=1,validation_steps=0.25,use_multiprocessing=True)\n",
      "Exception in thread Thread-5 (_run):\n",
      "Traceback (most recent call last):\n",
      "  File \"/Users/semensestakov/opt/anaconda3/envs/tf/lib/python3.10/threading.py\", line 1016, in _bootstrap_inner\n",
      "    self.run()\n",
      "  File \"/Users/semensestakov/opt/anaconda3/envs/tf/lib/python3.10/threading.py\", line 953, in run\n",
      "    self._target(*self._args, **self._kwargs)\n",
      "  File \"/Users/semensestakov/opt/anaconda3/envs/tf/lib/python3.10/site-packages/keras/utils/data_utils.py\", line 911, in _run\n",
      "    with closing(self.executor_fn(_SHARED_SEQUENCES)) as executor:\n",
      "  File \"/Users/semensestakov/opt/anaconda3/envs/tf/lib/python3.10/site-packages/keras/utils/data_utils.py\", line 898, in pool_fn\n",
      "    pool = get_pool_class(True)(\n",
      "  File \"/Users/semensestakov/opt/anaconda3/envs/tf/lib/python3.10/multiprocessing/context.py\", line 119, in Pool\n",
      "    return Pool(processes, initializer, initargs, maxtasksperchild,\n",
      "  File \"/Users/semensestakov/opt/anaconda3/envs/tf/lib/python3.10/multiprocessing/pool.py\", line 215, in __init__\n",
      "    self._repopulate_pool()\n",
      "  File \"/Users/semensestakov/opt/anaconda3/envs/tf/lib/python3.10/multiprocessing/pool.py\", line 306, in _repopulate_pool\n",
      "    return self._repopulate_pool_static(self._ctx, self.Process,\n",
      "  File \"/Users/semensestakov/opt/anaconda3/envs/tf/lib/python3.10/multiprocessing/pool.py\", line 329, in _repopulate_pool_static\n",
      "    w.start()\n",
      "  File \"/Users/semensestakov/opt/anaconda3/envs/tf/lib/python3.10/multiprocessing/process.py\", line 121, in start\n",
      "    self._popen = self._Popen(self)\n",
      "  File \"/Users/semensestakov/opt/anaconda3/envs/tf/lib/python3.10/multiprocessing/context.py\", line 288, in _Popen\n",
      "    return Popen(process_obj)\n",
      "  File \"/Users/semensestakov/opt/anaconda3/envs/tf/lib/python3.10/multiprocessing/popen_spawn_posix.py\", line 32, in __init__\n",
      "    super().__init__(process_obj)\n",
      "  File \"/Users/semensestakov/opt/anaconda3/envs/tf/lib/python3.10/multiprocessing/popen_fork.py\", line 19, in __init__\n",
      "    self._launch(process_obj)\n",
      "  File \"/Users/semensestakov/opt/anaconda3/envs/tf/lib/python3.10/multiprocessing/popen_spawn_posix.py\", line 47, in _launch\n",
      "    reduction.dump(process_obj, fp)\n",
      "  File \"/Users/semensestakov/opt/anaconda3/envs/tf/lib/python3.10/multiprocessing/reduction.py\", line 60, in dump\n",
      "    ForkingPickler(file, protocol).dump(obj)\n",
      "TypeError: cannot pickle 'generator' object\n"
     ]
    }
   ],
   "source": [
    "import extensionbase\n",
    "\n",
    "model.compile(optimizer=Adam(),\n",
    "              metrics=[\"accuracy\"],\n",
    "              loss=\"categorical_crossentropy\")\n",
    "gen = extensionbase.gen_extension_base(x_train, y_train,size_drop=50)\n",
    "\n",
    "model.fit_generator(gen,epochs=1,validation_steps=0.25,use_multiprocessing=True)\n",
    "# for _ in range(100):\n",
    "#     x, y = next(gen)\n",
    "#     model.fit(x, y, batch_size=32)\n"
   ],
   "metadata": {
    "collapsed": false,
    "pycharm": {
     "is_executing": true
    }
   }
  },
  {
   "cell_type": "code",
   "execution_count": null,
   "outputs": [],
   "source": [
    "model.save(\"Model_ex_256\", save_format=\"h5\")"
   ],
   "metadata": {
    "collapsed": false,
    "pycharm": {
     "is_executing": true
    }
   }
  },
  {
   "cell_type": "markdown",
   "source": [],
   "metadata": {
    "collapsed": false
   }
  },
  {
   "cell_type": "code",
   "execution_count": null,
   "outputs": [],
   "source": [
    "model.evaluate(x_train, to_categorical(y_train, 10))"
   ],
   "metadata": {
    "collapsed": false,
    "pycharm": {
     "is_executing": true
    }
   }
  }
 ],
 "metadata": {
  "kernelspec": {
   "display_name": "Python 3",
   "language": "python",
   "name": "python3"
  },
  "language_info": {
   "codemirror_mode": {
    "name": "ipython",
    "version": 2
   },
   "file_extension": ".py",
   "mimetype": "text/x-python",
   "name": "python",
   "nbconvert_exporter": "python",
   "pygments_lexer": "ipython2",
   "version": "2.7.6"
  }
 },
 "nbformat": 4,
 "nbformat_minor": 0
}
