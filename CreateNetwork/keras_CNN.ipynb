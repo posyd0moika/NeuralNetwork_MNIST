{
 "cells": [
  {
   "cell_type": "code",
   "execution_count": 25,
   "metadata": {
    "collapsed": true
   },
   "outputs": [],
   "source": [
    "import matplotlib.pyplot as plt                 # Библеотека для работы с графиками\n",
    "from tensorflow.keras.datasets import mnist     # библиотека базы выборок Mnist\n",
    "from tensorflow import keras\n",
    "from tensorflow.keras.layers import Dense, Flatten, Dropout, Conv2D, MaxPooling2D"
   ]
  },
  {
   "cell_type": "code",
   "execution_count": 26,
   "outputs": [],
   "source": [
    "(x_train, y_train), (x_test, y_test) = mnist.load_data()\n",
    "x_test = x_test / 255\n",
    "\n",
    "y_test_cat = keras.utils.to_categorical(y_test, 10)\n",
    "y_train_cat = keras.utils.to_categorical(y_train, 10)\n",
    "\n"
   ],
   "metadata": {
    "collapsed": false
   }
  },
  {
   "cell_type": "code",
   "execution_count": 27,
   "outputs": [
    {
     "name": "stdout",
     "output_type": "stream",
     "text": [
      "Model: \"sequential_3\"\n",
      "_________________________________________________________________\n",
      " Layer (type)                Output Shape              Param #   \n",
      "=================================================================\n",
      " conv2d_9 (Conv2D)           (None, 28, 28, 16)        160       \n",
      "                                                                 \n",
      " max_pooling2d_6 (MaxPooling  (None, 14, 14, 16)       0         \n",
      " 2D)                                                             \n",
      "                                                                 \n",
      " conv2d_10 (Conv2D)          (None, 14, 14, 32)        4640      \n",
      "                                                                 \n",
      " max_pooling2d_7 (MaxPooling  (None, 7, 7, 32)         0         \n",
      " 2D)                                                             \n",
      "                                                                 \n",
      " conv2d_11 (Conv2D)          (None, 7, 7, 64)          18496     \n",
      "                                                                 \n",
      " flatten_3 (Flatten)         (None, 3136)              0         \n",
      "                                                                 \n",
      " dense_6 (Dense)             (None, 64)                200768    \n",
      "                                                                 \n",
      " dropout (Dropout)           (None, 64)                0         \n",
      "                                                                 \n",
      " dense_7 (Dense)             (None, 10)                650       \n",
      "                                                                 \n",
      "=================================================================\n",
      "Total params: 224,714\n",
      "Trainable params: 224,714\n",
      "Non-trainable params: 0\n",
      "_________________________________________________________________\n"
     ]
    }
   ],
   "source": [
    "model = keras.Sequential([\n",
    "    Conv2D(16, (3, 3), padding='same', activation='relu', input_shape=(28, 28, 1)),\n",
    "    MaxPooling2D((2, 2), strides=2),\n",
    "    Conv2D(32, (3, 3), padding='same', activation='relu'),\n",
    "    MaxPooling2D((2, 2), strides=2),\n",
    "    Conv2D(64, (3, 3), padding='same', activation='relu'),\n",
    "    Flatten(),\n",
    "    Dense(64, activation='relu'),\n",
    "    Dropout(0.15),\n",
    "    Dense(10, activation='softmax')\n",
    "])\n",
    "model.summary()"
   ],
   "metadata": {
    "collapsed": false
   }
  },
  {
   "cell_type": "code",
   "execution_count": 28,
   "outputs": [
    {
     "name": "stdout",
     "output_type": "stream",
     "text": [
      "1800/1800 [==============================] - 22s 12ms/step - loss: 0.1905 - accuracy: 0.9383 - val_loss: 0.0858 - val_accuracy: 0.9777\n",
      "0 0\n",
      "1800/1800 [==============================] - 23s 13ms/step - loss: 0.0386 - accuracy: 0.9874 - val_loss: 0.1366 - val_accuracy: 0.9727\n",
      "0 1\n",
      "1800/1800 [==============================] - 22s 12ms/step - loss: 0.0260 - accuracy: 0.9918 - val_loss: 0.1452 - val_accuracy: 0.9716\n",
      "0 2\n",
      "1800/1800 [==============================] - 22s 12ms/step - loss: 0.0244 - accuracy: 0.9921 - val_loss: 0.1001 - val_accuracy: 0.9740\n",
      "0 3\n",
      "1800/1800 [==============================] - 22s 12ms/step - loss: 0.0145 - accuracy: 0.9954 - val_loss: 0.0779 - val_accuracy: 0.9791\n",
      "0 4\n",
      "1800/1800 [==============================] - 22s 12ms/step - loss: 0.0126 - accuracy: 0.9962 - val_loss: 0.0805 - val_accuracy: 0.9823\n",
      "0 5\n",
      "1800/1800 [==============================] - 23s 13ms/step - loss: 0.0159 - accuracy: 0.9954 - val_loss: 0.1005 - val_accuracy: 0.9821\n",
      "0 6\n",
      "1800/1800 [==============================] - 23s 13ms/step - loss: 0.0155 - accuracy: 0.9952 - val_loss: 0.0254 - val_accuracy: 0.9936\n",
      "0 7\n",
      "1800/1800 [==============================] - 23s 13ms/step - loss: 0.0095 - accuracy: 0.9968 - val_loss: 0.0389 - val_accuracy: 0.9921\n",
      "0 8\n",
      "1800/1800 [==============================] - 23s 13ms/step - loss: 0.0077 - accuracy: 0.9978 - val_loss: 0.0625 - val_accuracy: 0.9881\n",
      "0 9\n",
      "1800/1800 [==============================] - 24s 14ms/step - loss: 0.0095 - accuracy: 0.9971 - val_loss: 0.0449 - val_accuracy: 0.9880\n",
      "0 10\n",
      "1800/1800 [==============================] - 24s 13ms/step - loss: 0.0096 - accuracy: 0.9970 - val_loss: 0.0883 - val_accuracy: 0.9808\n",
      "0 11\n",
      "1800/1800 [==============================] - 24s 14ms/step - loss: 0.0087 - accuracy: 0.9973 - val_loss: 0.0689 - val_accuracy: 0.9856\n",
      "0 12\n",
      "1800/1800 [==============================] - 24s 13ms/step - loss: 0.0086 - accuracy: 0.9973 - val_loss: 0.1320 - val_accuracy: 0.9809\n",
      "0 13\n",
      "1800/1800 [==============================] - 25s 14ms/step - loss: 0.0090 - accuracy: 0.9974 - val_loss: 0.1406 - val_accuracy: 0.9766\n",
      "0 14\n",
      "1800/1800 [==============================] - 25s 14ms/step - loss: 0.0094 - accuracy: 0.9973 - val_loss: 0.0859 - val_accuracy: 0.9840\n",
      "0 15\n",
      "1800/1800 [==============================] - 24s 13ms/step - loss: 0.0094 - accuracy: 0.9972 - val_loss: 0.0777 - val_accuracy: 0.9874\n",
      "0 16\n",
      "1800/1800 [==============================] - 25s 14ms/step - loss: 0.0088 - accuracy: 0.9974 - val_loss: 0.1013 - val_accuracy: 0.9831\n",
      "0 17\n",
      "1800/1800 [==============================] - 24s 14ms/step - loss: 0.0070 - accuracy: 0.9978 - val_loss: 0.0656 - val_accuracy: 0.9890\n",
      "0 18\n",
      "1800/1800 [==============================] - 25s 14ms/step - loss: 0.0107 - accuracy: 0.9967 - val_loss: 0.0700 - val_accuracy: 0.9840\n",
      "0 19\n",
      "1800/1800 [==============================] - 24s 14ms/step - loss: 0.0080 - accuracy: 0.9976 - val_loss: 0.0852 - val_accuracy: 0.9844\n",
      "0 20\n",
      "1800/1800 [==============================] - 25s 14ms/step - loss: 0.0072 - accuracy: 0.9979 - val_loss: 0.0619 - val_accuracy: 0.9863\n",
      "0 21\n",
      "1800/1800 [==============================] - 24s 14ms/step - loss: 0.0086 - accuracy: 0.9975 - val_loss: 0.0451 - val_accuracy: 0.9874\n",
      "0 22\n",
      "1800/1800 [==============================] - 27s 15ms/step - loss: 0.0065 - accuracy: 0.9980 - val_loss: 0.0523 - val_accuracy: 0.9898\n",
      "0 23\n",
      "1800/1800 [==============================] - 28s 16ms/step - loss: 0.0065 - accuracy: 0.9981 - val_loss: 0.0569 - val_accuracy: 0.9912\n",
      "0 24\n",
      "1800/1800 [==============================] - 30s 16ms/step - loss: 0.0072 - accuracy: 0.9979 - val_loss: 0.1028 - val_accuracy: 0.9868\n",
      "1 0\n",
      "1800/1800 [==============================] - 25s 14ms/step - loss: 0.0062 - accuracy: 0.9982 - val_loss: 0.1303 - val_accuracy: 0.9810\n",
      "1 1\n",
      "1800/1800 [==============================] - 26s 14ms/step - loss: 0.0068 - accuracy: 0.9981 - val_loss: 0.0663 - val_accuracy: 0.9857\n",
      "1 2\n",
      "1800/1800 [==============================] - 26s 14ms/step - loss: 0.0057 - accuracy: 0.9984 - val_loss: 0.0637 - val_accuracy: 0.9893\n",
      "1 3\n",
      "1800/1800 [==============================] - 24s 13ms/step - loss: 0.0045 - accuracy: 0.9987 - val_loss: 0.0868 - val_accuracy: 0.9880\n",
      "1 4\n",
      "1800/1800 [==============================] - 24s 13ms/step - loss: 0.0077 - accuracy: 0.9979 - val_loss: 0.0829 - val_accuracy: 0.9882\n",
      "1 5\n",
      "1800/1800 [==============================] - 26s 14ms/step - loss: 0.0079 - accuracy: 0.9977 - val_loss: 0.0159 - val_accuracy: 0.9958\n",
      "1 6\n",
      "1800/1800 [==============================] - 25s 14ms/step - loss: 0.0052 - accuracy: 0.9985 - val_loss: 0.0276 - val_accuracy: 0.9943\n",
      "1 7\n",
      "1800/1800 [==============================] - 24s 14ms/step - loss: 0.0039 - accuracy: 0.9989 - val_loss: 0.0591 - val_accuracy: 0.9924\n",
      "1 8\n",
      "1800/1800 [==============================] - 23s 13ms/step - loss: 0.0058 - accuracy: 0.9984 - val_loss: 0.0679 - val_accuracy: 0.9887\n",
      "1 9\n",
      "1800/1800 [==============================] - 25s 14ms/step - loss: 0.0058 - accuracy: 0.9984 - val_loss: 0.0776 - val_accuracy: 0.9856\n",
      "1 10\n",
      "1800/1800 [==============================] - 26s 14ms/step - loss: 0.0051 - accuracy: 0.9985 - val_loss: 0.0651 - val_accuracy: 0.9883\n",
      "1 11\n",
      "1800/1800 [==============================] - 25s 14ms/step - loss: 0.0056 - accuracy: 0.9984 - val_loss: 0.0667 - val_accuracy: 0.9889\n",
      "1 12\n",
      "1800/1800 [==============================] - 25s 14ms/step - loss: 0.0059 - accuracy: 0.9984 - val_loss: 0.0850 - val_accuracy: 0.9854\n",
      "1 13\n",
      "1800/1800 [==============================] - 25s 14ms/step - loss: 0.0062 - accuracy: 0.9983 - val_loss: 0.0674 - val_accuracy: 0.9896\n",
      "1 14\n",
      "1800/1800 [==============================] - 25s 14ms/step - loss: 0.0069 - accuracy: 0.9979 - val_loss: 0.1085 - val_accuracy: 0.9879\n",
      "1 15\n",
      "1800/1800 [==============================] - 25s 14ms/step - loss: 0.0061 - accuracy: 0.9983 - val_loss: 0.0673 - val_accuracy: 0.9899\n",
      "1 16\n",
      "1800/1800 [==============================] - 26s 14ms/step - loss: 0.0041 - accuracy: 0.9988 - val_loss: 0.0657 - val_accuracy: 0.9919\n",
      "1 17\n",
      "1800/1800 [==============================] - 25s 14ms/step - loss: 0.0070 - accuracy: 0.9980 - val_loss: 0.0535 - val_accuracy: 0.9891\n",
      "1 18\n",
      "1800/1800 [==============================] - 26s 15ms/step - loss: 0.0060 - accuracy: 0.9983 - val_loss: 0.1053 - val_accuracy: 0.9857\n",
      "1 19\n",
      "1800/1800 [==============================] - 25s 14ms/step - loss: 0.0047 - accuracy: 0.9986 - val_loss: 0.0892 - val_accuracy: 0.9861\n",
      "1 20\n",
      "1800/1800 [==============================] - 25s 14ms/step - loss: 0.0066 - accuracy: 0.9981 - val_loss: 0.0355 - val_accuracy: 0.9914\n",
      "1 21\n",
      "1800/1800 [==============================] - 25s 14ms/step - loss: 0.0049 - accuracy: 0.9986 - val_loss: 0.0429 - val_accuracy: 0.9930\n",
      "1 22\n",
      "1800/1800 [==============================] - 25s 14ms/step - loss: 0.0049 - accuracy: 0.9986 - val_loss: 0.0461 - val_accuracy: 0.9905\n",
      "1 23\n",
      "1800/1800 [==============================] - 26s 14ms/step - loss: 0.0058 - accuracy: 0.9984 - val_loss: 0.1051 - val_accuracy: 0.9901\n",
      "1 24\n"
     ]
    }
   ],
   "source": [
    "model.compile(optimizer=\"adam\",\n",
    "              loss='categorical_crossentropy',\n",
    "              metrics=['accuracy'])\n",
    "\n",
    "import extensionbase\n",
    "\n",
    "sd = 25\n",
    "gen = extensionbase.gen_extension_base(x_train, y_train, size_drop=sd)\n",
    "\n",
    "ah = []\n",
    "av = []\n",
    "\n",
    "for j in range(2):\n",
    "    for i in range(sd):\n",
    "        x, y = next(gen)\n",
    "        g = model.fit(x, y, batch_size=77, validation_split=0.25, shuffle=True, )\n",
    "        ah.append(g.history[\"accuracy\"])\n",
    "        av.append(g.history[\"val_accuracy\"])\n",
    "    print(j, i)\n"
   ],
   "metadata": {
    "collapsed": false
   }
  },
  {
   "cell_type": "code",
   "execution_count": 29,
   "outputs": [],
   "source": [
    "model.save(\"Model_2ep_CNN3_64D_10\", save_format=\"h5\")"
   ],
   "metadata": {
    "collapsed": false
   }
  },
  {
   "cell_type": "code",
   "execution_count": 30,
   "outputs": [
    {
     "name": "stdout",
     "output_type": "stream",
     "text": [
      "[0.9900649189949036]\n"
     ]
    },
    {
     "data": {
      "text/plain": "[<matplotlib.lines.Line2D at 0x159f28ac0>]"
     },
     "execution_count": 30,
     "metadata": {},
     "output_type": "execute_result"
    },
    {
     "data": {
      "text/plain": "<Figure size 640x480 with 1 Axes>",
      "image/png": "[encoded data removed]"
     },
     "metadata": {},
     "output_type": "display_data"
    }
   ],
   "source": [
    "print(av[-1])\n",
    "plt.plot(ah)\n",
    "plt.plot(av, c=\"r\")\n"
   ],
   "metadata": {
    "collapsed": false
   }
  },
  {
   "cell_type": "code",
   "execution_count": 31,
   "outputs": [
    {
     "name": "stdout",
     "output_type": "stream",
     "text": [
      "313/313 [==============================] - 1s 3ms/step - loss: 0.0733 - accuracy: 0.9892\n"
     ]
    },
    {
     "data": {
      "text/plain": "[0.07325761765241623, 0.9891999959945679]"
     },
     "execution_count": 31,
     "metadata": {},
     "output_type": "execute_result"
    }
   ],
   "source": [
    "model.evaluate(x_test / 255, y_test_cat)"
   ],
   "metadata": {
    "collapsed": false
   }
  }
 ],
 "metadata": {
  "kernelspec": {
   "display_name": "Python 3",
   "language": "python",
   "name": "python3"
  },
  "language_info": {
   "codemirror_mode": {
    "name": "ipython",
    "version": 2
   },
   "file_extension": ".py",
   "mimetype": "text/x-python",
   "name": "python",
   "nbconvert_exporter": "python",
   "pygments_lexer": "ipython2",
   "version": "2.7.6"
  }
 },
 "nbformat": 4,
 "nbformat_minor": 0
}
