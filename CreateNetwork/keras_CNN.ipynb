{
 "cells": [
  {
   "cell_type": "code",
   "execution_count": 2,
   "metadata": {
    "collapsed": true
   },
   "outputs": [],
   "source": [
    "import matplotlib.pyplot as plt                 # Библеотека для работы с графиками\n",
    "from tensorflow.keras.datasets import mnist     # библиотека базы выборок Mnist\n",
    "from tensorflow import keras\n",
    "from tensorflow.keras.layers import Dense, Flatten, Dropout, Conv2D, MaxPooling2D"
   ]
  },
  {
   "cell_type": "code",
   "execution_count": 3,
   "outputs": [],
   "source": [
    "(x_train, y_train), (x_test, y_test) = mnist.load_data()    # загружаем данные они имеют вид\n",
    "                                                            # x_train.shape=(60000,28,28) т.е 60к изображений размером 28 на 28 пикселей в градациях серого,\n",
    "                                                            # x_test имеет размер (10000,28,28)\n",
    "                                                            # цвет пикселя варьируется от 0 до 255, но\n",
    "                                                            # нейронная сеть не может нормально воспринимать такие\n",
    "                                                            # значения поэтому мы их разделим на 255\n",
    "x_test = x_test / 255\n",
    "y_test_cat = keras.utils.to_categorical(y_test, 10)\n",
    "\n",
    "\n",
    "# тренировочную выборку мы не меняем так как она в нашем генераторе сама видоизмениться"
   ],
   "metadata": {
    "collapsed": false
   }
  },
  {
   "cell_type": "code",
   "execution_count": 3,
   "outputs": [
    {
     "name": "stdout",
     "output_type": "stream",
     "text": [
      "Model: \"sequential\"\n",
      "_________________________________________________________________\n",
      " Layer (type)                Output Shape              Param #   \n",
      "=================================================================\n",
      " conv2d (Conv2D)             (None, 28, 28, 16)        80        \n",
      "                                                                 \n",
      " max_pooling2d (MaxPooling2D  (None, 14, 14, 16)       0         \n",
      " )                                                               \n",
      "                                                                 \n",
      " conv2d_1 (Conv2D)           (None, 14, 14, 32)        2080      \n",
      "                                                                 \n",
      " max_pooling2d_1 (MaxPooling  (None, 7, 7, 32)         0         \n",
      " 2D)                                                             \n",
      "                                                                 \n",
      " conv2d_2 (Conv2D)           (None, 7, 7, 64)          8256      \n",
      "                                                                 \n",
      " flatten (Flatten)           (None, 3136)              0         \n",
      "                                                                 \n",
      " dropout (Dropout)           (None, 3136)              0         \n",
      "                                                                 \n",
      " dense (Dense)               (None, 64)                200768    \n",
      "                                                                 \n",
      " dense_1 (Dense)             (None, 10)                650       \n",
      "                                                                 \n",
      "=================================================================\n",
      "Total params: 211,834\n",
      "Trainable params: 211,834\n",
      "Non-trainable params: 0\n",
      "_________________________________________________________________\n"
     ]
    }
   ],
   "source": [
    "model = keras.Sequential([\n",
    "    # Conv2D принимает в первую очередь количество каналов, размер свёрточного нейрона ,padding - формирует\n",
    "    # дополнительные строки и столбцы у входного канала изображения (они ровны 0), так же функцию активации\n",
    "    Conv2D(16, (2, 2), padding='same', activation='relu', input_shape=(28, 28, 1)),\n",
    "    # MaxPooling2D принимает размер \"свертки\"(int, int) и так же как и Conv2D есть параметр\n",
    "    # strides - шаг через который мы смотрим максимальное значение например 2 значит, что изображение уменьшиться 2 раза ,так как шаг равен 2 и мы не каждый следующий срез нейронов смотрим.\n",
    "    # padding грубо говоря есть\n",
    "    MaxPooling2D((2, 2), strides=2),                        #\n",
    "    Conv2D(32, (2, 2), padding='same', activation='relu'),  #\n",
    "    MaxPooling2D((2, 2), strides=2),                        #\n",
    "    Conv2D(64, (2, 2), padding='same', activation='relu'),  #\n",
    "    Flatten(),\n",
    "    # Flatten преобразует выход предыдущего в вектор shape = (,64*7*7)\n",
    "    Dropout(0.15),\n",
    "    Dense(64, activation='relu'),                           # Обычный слой неронов\n",
    "    Dense(10, activation='softmax')                         #\n",
    "])\n",
    "model.summary()"
   ],
   "metadata": {
    "collapsed": false
   }
  },
  {
   "cell_type": "code",
   "execution_count": 4,
   "outputs": [
    {
     "name": "stderr",
     "output_type": "stream",
     "text": [
      "2023-04-06 18:37:48.668506: W tensorflow/tsl/platform/profile_utils/cpu_utils.cc:128] Failed to get CPU frequency: 0 Hz\n"
     ]
    },
    {
     "name": "stdout",
     "output_type": "stream",
     "text": [
      "900/900 [==============================] - 16s 17ms/step - loss: 0.3325 - accuracy: 0.8932 - val_loss: 0.2969 - val_accuracy: 0.9222\n",
      "0 0\n",
      "900/900 [==============================] - 15s 17ms/step - loss: 0.0813 - accuracy: 0.9745 - val_loss: 0.0900 - val_accuracy: 0.9667\n",
      "0 1\n",
      "900/900 [==============================] - 15s 17ms/step - loss: 0.0505 - accuracy: 0.9844 - val_loss: 0.1464 - val_accuracy: 0.9636\n",
      "0 2\n",
      "900/900 [==============================] - 14s 16ms/step - loss: 0.0409 - accuracy: 0.9873 - val_loss: 0.2149 - val_accuracy: 0.9522\n",
      "0 3\n",
      "900/900 [==============================] - 15s 17ms/step - loss: 0.0352 - accuracy: 0.9891 - val_loss: 0.2880 - val_accuracy: 0.9476\n",
      "0 4\n",
      "900/900 [==============================] - 15s 16ms/step - loss: 0.0283 - accuracy: 0.9911 - val_loss: 0.1757 - val_accuracy: 0.9668\n",
      "0 5\n",
      "900/900 [==============================] - 15s 16ms/step - loss: 0.0280 - accuracy: 0.9909 - val_loss: 0.1102 - val_accuracy: 0.9729\n",
      "0 6\n",
      "900/900 [==============================] - 15s 16ms/step - loss: 0.0313 - accuracy: 0.9897 - val_loss: 0.1062 - val_accuracy: 0.9698\n",
      "0 7\n",
      "900/900 [==============================] - 15s 17ms/step - loss: 0.0195 - accuracy: 0.9937 - val_loss: 0.0849 - val_accuracy: 0.9806\n",
      "0 8\n",
      "900/900 [==============================] - 15s 16ms/step - loss: 0.0178 - accuracy: 0.9945 - val_loss: 0.1476 - val_accuracy: 0.9619\n",
      "0 9\n",
      "900/900 [==============================] - 15s 16ms/step - loss: 0.0178 - accuracy: 0.9941 - val_loss: 0.1387 - val_accuracy: 0.9627\n",
      "0 10\n",
      "900/900 [==============================] - 15s 16ms/step - loss: 0.0175 - accuracy: 0.9943 - val_loss: 0.1153 - val_accuracy: 0.9653\n",
      "0 11\n",
      "900/900 [==============================] - 15s 17ms/step - loss: 0.0192 - accuracy: 0.9943 - val_loss: 0.1301 - val_accuracy: 0.9712\n",
      "0 12\n",
      "900/900 [==============================] - 15s 16ms/step - loss: 0.0170 - accuracy: 0.9943 - val_loss: 0.1724 - val_accuracy: 0.9676\n",
      "0 13\n",
      "900/900 [==============================] - 15s 16ms/step - loss: 0.0187 - accuracy: 0.9942 - val_loss: 0.1300 - val_accuracy: 0.9708\n",
      "0 14\n",
      "900/900 [==============================] - 15s 17ms/step - loss: 0.0118 - accuracy: 0.9963 - val_loss: 0.0527 - val_accuracy: 0.9837\n",
      "0 15\n",
      "900/900 [==============================] - 15s 16ms/step - loss: 0.0131 - accuracy: 0.9959 - val_loss: 0.0822 - val_accuracy: 0.9809\n",
      "0 16\n",
      "900/900 [==============================] - 15s 17ms/step - loss: 0.0137 - accuracy: 0.9959 - val_loss: 0.0309 - val_accuracy: 0.9895\n",
      "0 17\n",
      "900/900 [==============================] - 15s 16ms/step - loss: 0.0113 - accuracy: 0.9963 - val_loss: 0.0939 - val_accuracy: 0.9812\n",
      "0 18\n",
      "900/900 [==============================] - 15s 17ms/step - loss: 0.0082 - accuracy: 0.9974 - val_loss: 0.1113 - val_accuracy: 0.9773\n",
      "0 19\n",
      "900/900 [==============================] - 15s 16ms/step - loss: 0.0138 - accuracy: 0.9958 - val_loss: 0.0953 - val_accuracy: 0.9859\n",
      "0 20\n",
      "900/900 [==============================] - 15s 16ms/step - loss: 0.0156 - accuracy: 0.9952 - val_loss: 0.0723 - val_accuracy: 0.9835\n",
      "0 21\n",
      "900/900 [==============================] - 15s 17ms/step - loss: 0.0220 - accuracy: 0.9934 - val_loss: 0.0289 - val_accuracy: 0.9917\n",
      "0 22\n",
      "900/900 [==============================] - 15s 17ms/step - loss: 0.0113 - accuracy: 0.9963 - val_loss: 0.1405 - val_accuracy: 0.9699\n",
      "0 23\n",
      "900/900 [==============================] - 15s 17ms/step - loss: 0.0115 - accuracy: 0.9963 - val_loss: 0.0669 - val_accuracy: 0.9820\n",
      "0 24\n",
      "900/900 [==============================] - 15s 17ms/step - loss: 0.0108 - accuracy: 0.9965 - val_loss: 0.1166 - val_accuracy: 0.9794\n",
      "0 25\n",
      "900/900 [==============================] - 15s 17ms/step - loss: 0.0150 - accuracy: 0.9956 - val_loss: 0.1087 - val_accuracy: 0.9740\n",
      "0 26\n",
      "900/900 [==============================] - 15s 16ms/step - loss: 0.0115 - accuracy: 0.9966 - val_loss: 0.1007 - val_accuracy: 0.9804\n",
      "0 27\n",
      "900/900 [==============================] - 15s 17ms/step - loss: 0.0083 - accuracy: 0.9975 - val_loss: 0.0960 - val_accuracy: 0.9810\n",
      "0 28\n",
      "900/900 [==============================] - 16s 17ms/step - loss: 0.0124 - accuracy: 0.9961 - val_loss: 0.1513 - val_accuracy: 0.9740\n",
      "0 29\n",
      "900/900 [==============================] - 15s 17ms/step - loss: 0.0116 - accuracy: 0.9966 - val_loss: 0.0857 - val_accuracy: 0.9803\n",
      "0 30\n",
      "900/900 [==============================] - 17s 19ms/step - loss: 0.0108 - accuracy: 0.9964 - val_loss: 0.0551 - val_accuracy: 0.9828\n",
      "0 31\n",
      "900/900 [==============================] - 16s 18ms/step - loss: 0.0112 - accuracy: 0.9966 - val_loss: 0.2091 - val_accuracy: 0.9640\n",
      "0 32\n",
      "900/900 [==============================] - 16s 17ms/step - loss: 0.0104 - accuracy: 0.9969 - val_loss: 0.1158 - val_accuracy: 0.9810\n",
      "0 33\n",
      "900/900 [==============================] - 15s 17ms/step - loss: 0.0144 - accuracy: 0.9956 - val_loss: 0.1517 - val_accuracy: 0.9771\n",
      "0 34\n",
      "900/900 [==============================] - 15s 16ms/step - loss: 0.0140 - accuracy: 0.9957 - val_loss: 0.0953 - val_accuracy: 0.9823\n",
      "0 35\n",
      "900/900 [==============================] - 15s 17ms/step - loss: 0.0099 - accuracy: 0.9972 - val_loss: 0.0475 - val_accuracy: 0.9855\n",
      "0 36\n",
      "900/900 [==============================] - 16s 17ms/step - loss: 0.0066 - accuracy: 0.9980 - val_loss: 0.1014 - val_accuracy: 0.9799\n",
      "0 37\n",
      "900/900 [==============================] - 15s 17ms/step - loss: 0.0147 - accuracy: 0.9956 - val_loss: 0.0230 - val_accuracy: 0.9936\n",
      "0 38\n",
      "900/900 [==============================] - 15s 17ms/step - loss: 0.0156 - accuracy: 0.9950 - val_loss: 0.0527 - val_accuracy: 0.9881\n",
      "0 39\n",
      "900/900 [==============================] - 16s 17ms/step - loss: 0.0089 - accuracy: 0.9973 - val_loss: 0.1896 - val_accuracy: 0.9658\n",
      "0 40\n",
      "900/900 [==============================] - 15s 16ms/step - loss: 0.0108 - accuracy: 0.9967 - val_loss: 0.1594 - val_accuracy: 0.9759\n",
      "0 41\n",
      "900/900 [==============================] - 15s 17ms/step - loss: 0.0111 - accuracy: 0.9967 - val_loss: 0.0514 - val_accuracy: 0.9865\n",
      "0 42\n",
      "900/900 [==============================] - 15s 16ms/step - loss: 0.0122 - accuracy: 0.9963 - val_loss: 0.0372 - val_accuracy: 0.9886\n",
      "0 43\n",
      "900/900 [==============================] - 15s 16ms/step - loss: 0.0121 - accuracy: 0.9963 - val_loss: 0.1188 - val_accuracy: 0.9789\n",
      "0 44\n",
      "900/900 [==============================] - 17s 19ms/step - loss: 0.0083 - accuracy: 0.9973 - val_loss: 0.0352 - val_accuracy: 0.9922\n",
      "0 45\n",
      "900/900 [==============================] - 15s 17ms/step - loss: 0.0096 - accuracy: 0.9972 - val_loss: 0.0499 - val_accuracy: 0.9875\n",
      "0 46\n",
      "900/900 [==============================] - 15s 17ms/step - loss: 0.0092 - accuracy: 0.9975 - val_loss: 0.0548 - val_accuracy: 0.9862\n",
      "0 47\n",
      "900/900 [==============================] - 15s 16ms/step - loss: 0.0057 - accuracy: 0.9982 - val_loss: 0.0165 - val_accuracy: 0.9945\n",
      "0 48\n",
      "900/900 [==============================] - 15s 17ms/step - loss: 0.0103 - accuracy: 0.9971 - val_loss: 0.1107 - val_accuracy: 0.9760\n",
      "0 49\n"
     ]
    }
   ],
   "source": [
    "model.compile(optimizer=\"adam\",                 # Выбераю оптимизатор для модели\n",
    "              loss='categorical_crossentropy',  # Выбираю ошибку\n",
    "              metrics=['accuracy'])             # Метрика оценки работы сети\n",
    "\n",
    "import extensionbase\n",
    "\n",
    "sd = 50    #количество на сколько разделитсья база данных\n",
    "gen = extensionbase.gen_extension_base(x_train, y_train, size_drop=sd)\n",
    "# x_train и y_train нужно передавать в исходном виде т.к все в коде преобразуются\n",
    "\n",
    "ah = []  #  Списки для оценки\n",
    "av = []\n",
    "\n",
    "for j in range(1):  # Количество эпох\n",
    "    for i in range(sd):\n",
    "        x, y = next(gen)     # получаем кусочек данных\n",
    "        his = model.fit(x, y, batch_size=77, validation_split=0.25, shuffle=True)\n",
    "        # validation_split=0.25 значит что 25% данных уходит на то, чтобы посмотреть как обучилась нейронная сети полсе 1 эпохи в нашем случае на кусочке данных\n",
    "        ah.append(his.history[\"accuracy\"])   # добавляем статистические данных нашей НН\n",
    "        # \"accuracy\" - это качество обучение нашей сети на тренировочной выборке\n",
    "        av.append(his.history[\"val_accuracy\"])\n",
    "        # \"val_accuracy\" - это качество обучение нашей сети на валидационной выборке\n",
    "        print(j, i)\n"
   ],
   "metadata": {
    "collapsed": false
   }
  },
  {
   "cell_type": "code",
   "execution_count": 5,
   "outputs": [],
   "source": [
    "model.save(\"Model_2ep_CNN_2_2_64D_10\", save_format=\"h5\")"
   ],
   "metadata": {
    "collapsed": false
   }
  },
  {
   "cell_type": "code",
   "execution_count": 6,
   "outputs": [
    {
     "name": "stdout",
     "output_type": "stream",
     "text": [
      "0.9759740233421326 % - Финальный результат сети на валидационной выборке\n"
     ]
    },
    {
     "data": {
      "text/plain": "<Figure size 640x480 with 1 Axes>",
      "image/png": "[encoded data removed]"
     },
     "metadata": {},
     "output_type": "display_data"
    }
   ],
   "source": [
    "print(*av[-1],\"% - Финальный результат сети на валидационной выборке\")\n",
    "plt.plot(ah)\n",
    "plt.plot(av, c=\"r\")\n",
    "# Выводим графики на экран где синий - это \"accuracy\", a красный - это \"val_accuracy\"\n",
    "plt.show()"
   ],
   "metadata": {
    "collapsed": false
   }
  },
  {
   "cell_type": "code",
   "execution_count": 7,
   "outputs": [
    {
     "name": "stdout",
     "output_type": "stream",
     "text": [
      "313/313 [==============================] - 1s 3ms/step - loss: 2.4158 - accuracy: 0.0974\n"
     ]
    },
    {
     "data": {
      "text/plain": "[2.4157707691192627, 0.09740000218153]"
     },
     "execution_count": 7,
     "metadata": {},
     "output_type": "execute_result"
    }
   ],
   "source": [
    "model.evaluate(x_test / 255, y_test_cat) # 1 - \"loss\", 2 - \"accuracy\"\n"
   ],
   "metadata": {
    "collapsed": false
   }
  }
 ],
 "metadata": {
  "kernelspec": {
   "display_name": "Python 3",
   "language": "python",
   "name": "python3"
  },
  "language_info": {
   "codemirror_mode": {
    "name": "ipython",
    "version": 2
   },
   "file_extension": ".py",
   "mimetype": "text/x-python",
   "name": "python",
   "nbconvert_exporter": "python",
   "pygments_lexer": "ipython2",
   "version": "2.7.6"
  }
 },
 "nbformat": 4,
 "nbformat_minor": 0
}
