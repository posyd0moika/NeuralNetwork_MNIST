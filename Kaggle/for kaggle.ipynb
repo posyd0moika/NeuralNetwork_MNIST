{
 "cells": [
  {
   "cell_type": "code",
   "execution_count": 1,
   "metadata": {
    "collapsed": true
   },
   "outputs": [],
   "source": [
    "import tensorflow as tf\n",
    "import pandas as pd\n",
    "import numpy as np\n",
    "import matplotlib.pyplot as plt"
   ]
  },
  {
   "cell_type": "code",
   "execution_count": 3,
   "outputs": [
    {
     "data": {
      "text/plain": "array([[0, 0, 0, ..., 0, 0, 0],\n       [0, 0, 0, ..., 0, 0, 0],\n       [0, 0, 0, ..., 0, 0, 0],\n       ...,\n       [0, 0, 0, ..., 0, 0, 0],\n       [0, 0, 0, ..., 0, 0, 0],\n       [0, 0, 0, ..., 0, 0, 0]])"
     },
     "execution_count": 3,
     "metadata": {},
     "output_type": "execute_result"
    }
   ],
   "source": [
    "x_test = np.array(pd.read_csv(\"test.csv\"))\n",
    "x_test"
   ],
   "metadata": {
    "collapsed": false
   }
  },
  {
   "cell_type": "code",
   "execution_count": 4,
   "outputs": [],
   "source": [
    "x_test.shape = (-1, 28, 28)"
   ],
   "metadata": {
    "collapsed": false
   }
  },
  {
   "cell_type": "code",
   "execution_count": 5,
   "outputs": [
    {
     "data": {
      "text/plain": "(28000, 28, 28)"
     },
     "execution_count": 5,
     "metadata": {},
     "output_type": "execute_result"
    }
   ],
   "source": [
    "x_test.shape"
   ],
   "metadata": {
    "collapsed": false
   }
  },
  {
   "cell_type": "code",
   "execution_count": 6,
   "outputs": [
    {
     "data": {
      "text/plain": "<matplotlib.image.AxesImage at 0x14e9e7040>"
     },
     "execution_count": 6,
     "metadata": {},
     "output_type": "execute_result"
    },
    {
     "data": {
      "text/plain": "<Figure size 640x480 with 1 Axes>",
      "image/png": "[encoded data removed]"
     },
     "metadata": {},
     "output_type": "display_data"
    }
   ],
   "source": [
    "plt.imshow(x_test[2])"
   ],
   "metadata": {
    "collapsed": false
   }
  },
  {
   "cell_type": "code",
   "execution_count": 8,
   "outputs": [],
   "source": [
    "model = tf.keras.models.load_model(\"../Models/Model ex2ep CNN64\")"
   ],
   "metadata": {
    "collapsed": false
   }
  },
  {
   "cell_type": "code",
   "execution_count": 10,
   "outputs": [],
   "source": [
    "data = pd.read_csv(\"train.csv\")\n",
    "y_train = np.array(data.label)\n",
    "x_train = np.array(data.drop([\"label\"], axis=1))\n",
    "x_train.shape = (-1, 28, 28)\n",
    "y_train.shape = (-1, )\n",
    "y_train = tf.keras.utils.to_categorical(y_train, 10)"
   ],
   "metadata": {
    "collapsed": false
   }
  },
  {
   "cell_type": "code",
   "execution_count": 11,
   "outputs": [
    {
     "name": "stdout",
     "output_type": "stream",
     "text": [
      "Epoch 1/2\n"
     ]
    },
    {
     "name": "stderr",
     "output_type": "stream",
     "text": [
      "2023-07-28 19:33:44.174252: W tensorflow/tsl/platform/profile_utils/cpu_utils.cc:128] Failed to get CPU frequency: 0 Hz\n"
     ]
    },
    {
     "name": "stdout",
     "output_type": "stream",
     "text": [
      "493/493 [==============================] - 6s 11ms/step - loss: 42.5649 - accuracy: 0.9844 - val_loss: 8.3918 - val_accuracy: 0.9922\n",
      "Epoch 2/2\n",
      "493/493 [==============================] - 6s 12ms/step - loss: 5.3127 - accuracy: 0.9917 - val_loss: 4.7562 - val_accuracy: 0.9918\n"
     ]
    },
    {
     "data": {
      "text/plain": "<keras.callbacks.History at 0x14ee578b0>"
     },
     "execution_count": 11,
     "metadata": {},
     "output_type": "execute_result"
    }
   ],
   "source": [
    "model.compile(optimizer=\"adam\",\n",
    "              loss='categorical_crossentropy',\n",
    "              metrics=['accuracy'])\n",
    "\n",
    "model.fit(x_train,y_train,64,2,validation_split = 0.25)"
   ],
   "metadata": {
    "collapsed": false
   }
  },
  {
   "cell_type": "code",
   "execution_count": 12,
   "outputs": [
    {
     "name": "stdout",
     "output_type": "stream",
     "text": [
      "875/875 [==============================] - 2s 2ms/step\n"
     ]
    },
    {
     "data": {
      "text/plain": "[2,\n 0,\n 9,\n 0,\n 3,\n 7,\n 0,\n 3,\n 0,\n 3,\n 5,\n 7,\n 4,\n 0,\n 4,\n 3,\n 3,\n 1,\n 9,\n 0,\n 9,\n 1,\n 1,\n 5,\n 7,\n 4,\n 2,\n 7,\n 4,\n 7,\n 7,\n 5,\n 4,\n 2,\n 6,\n 2,\n 5,\n 5,\n 1,\n 6,\n 7,\n 7,\n 4,\n 9,\n 8,\n 7,\n 8,\n 2,\n 6,\n 7,\n 6,\n 8,\n 8,\n 3,\n 8,\n 2,\n 1,\n 2,\n 2,\n 0,\n 4,\n 1,\n 7,\n 0,\n 0,\n 0,\n 1,\n 9,\n 0,\n 1,\n 6,\n 5,\n 8,\n 8,\n 2,\n 8,\n 9,\n 9,\n 2,\n 3,\n 5,\n 4,\n 1,\n 8,\n 9,\n 2,\n 4,\n 3,\n 6,\n 7,\n 2,\n 0,\n 6,\n 6,\n 1,\n 4,\n 3,\n 9,\n 7,\n 4,\n 0,\n 9,\n 2,\n 0,\n 7,\n 3,\n 0,\n 5,\n 0,\n 8,\n 0,\n 0,\n 4,\n 7,\n 1,\n 7,\n 1,\n 1,\n 3,\n 3,\n 3,\n 7,\n 2,\n 8,\n 6,\n 3,\n 8,\n 7,\n 7,\n 4,\n 3,\n 5,\n 6,\n 0,\n 0,\n 0,\n 3,\n 1,\n 3,\n 6,\n 4,\n 3,\n 4,\n 5,\n 5,\n 8,\n 7,\n 7,\n 2,\n 8,\n 4,\n 3,\n 5,\n 6,\n 5,\n 3,\n 7,\n 5,\n 7,\n 8,\n 3,\n 0,\n 4,\n 5,\n 1,\n 3,\n 7,\n 6,\n 3,\n 0,\n 2,\n 7,\n 8,\n 6,\n 1,\n 3,\n 7,\n 4,\n 1,\n 2,\n 4,\n 8,\n 5,\n 2,\n 4,\n 9,\n 2,\n 1,\n 6,\n 0,\n 6,\n 1,\n 4,\n 9,\n 6,\n 0,\n 9,\n 7,\n 6,\n 9,\n 1,\n 9,\n 0,\n 9,\n 9,\n 0,\n 8,\n 4,\n 6,\n 2,\n 0,\n 9,\n 3,\n 6,\n 3,\n 2,\n 1,\n 6,\n 3,\n 4,\n 2,\n 3,\n 1,\n 2,\n 2,\n 0,\n 4,\n 6,\n 1,\n 0,\n 0,\n 4,\n 9,\n 1,\n 7,\n 3,\n 2,\n 3,\n 8,\n 6,\n 8,\n 6,\n 2,\n 8,\n 5,\n 5,\n 4,\n 8,\n 3,\n 5,\n 9,\n 7,\n 1,\n 3,\n 8,\n 4,\n 5,\n 1,\n 4,\n 5,\n 6,\n 3,\n 3,\n 5,\n 7,\n 0,\n 6,\n 8,\n 3,\n 1,\n 6,\n 0,\n 6,\n 3,\n 9,\n 5,\n 1,\n 5,\n 8,\n 4,\n 0,\n 9,\n 2,\n 0,\n 5,\n 3,\n 7,\n 1,\n 9,\n 9,\n 5,\n 7,\n 7,\n 9,\n 9,\n 6,\n 3,\n 0,\n 3,\n 3,\n 6,\n 9,\n 8,\n 2,\n 6,\n 3,\n 7,\n 1,\n 4,\n 5,\n 8,\n 5,\n 9,\n 0,\n 0,\n 3,\n 8,\n 4,\n 1,\n 8,\n 4,\n 1,\n 1,\n 9,\n 8,\n 4,\n 5,\n 1,\n 5,\n 3,\n 6,\n 3,\n 1,\n 3,\n 0,\n 9,\n 0,\n 0,\n 6,\n 0,\n 6,\n 3,\n 1,\n 8,\n 6,\n 0,\n 6,\n 5,\n 2,\n 2,\n 6,\n 7,\n 7,\n 2,\n 5,\n 8,\n 3,\n 9,\n 2,\n 7,\n 8,\n 6,\n 3,\n 8,\n 4,\n 2,\n 3,\n 8,\n 1,\n 6,\n 4,\n 8,\n 7,\n 9,\n 7,\n 6,\n 9,\n 5,\n 3,\n 7,\n 6,\n 5,\n 5,\n 4,\n 2,\n 6,\n 2,\n 1,\n 3,\n 7,\n 1,\n 7,\n 9,\n 9,\n 6,\n 1,\n 1,\n 1,\n 7,\n 3,\n 9,\n 7,\n 6,\n 1,\n 1,\n 1,\n 9,\n 3,\n 8,\n 5,\n 5,\n 0,\n 4,\n 1,\n 2,\n 3,\n 1,\n 1,\n 3,\n 5,\n 9,\n 6,\n 6,\n 5,\n 3,\n 1,\n 4,\n 7,\n 4,\n 7,\n 4,\n 8,\n 5,\n 2,\n 0,\n 1,\n 3,\n 9,\n 5,\n 0,\n 8,\n 4,\n 7,\n 4,\n 4,\n 4,\n 1,\n 5,\n 3,\n 9,\n 9,\n 7,\n 6,\n 9,\n 5,\n 9,\n 2,\n 3,\n 5,\n 6,\n 6,\n 7,\n 5,\n 0,\n 5,\n 1,\n 7,\n 4,\n 4,\n 1,\n 1,\n 4,\n 9,\n 5,\n 6,\n 0,\n 1,\n 3,\n 1,\n 0,\n 4,\n 8,\n 1,\n 2,\n 7,\n 9,\n 4,\n 8,\n 3,\n 7,\n 7,\n 4,\n 2,\n 4,\n 6,\n 7,\n 6,\n 3,\n 2,\n 0,\n 6,\n 5,\n 9,\n 4,\n 1,\n 8,\n 3,\n 3,\n 0,\n 2,\n 7,\n 6,\n 8,\n 7,\n 5,\n 3,\n 5,\n 7,\n 4,\n 3,\n 6,\n 9,\n 0,\n 7,\n 7,\n 1,\n 0,\n 1,\n 1,\n 7,\n 0,\n 5,\n 3,\n 8,\n 3,\n 5,\n 6,\n 5,\n 4,\n 3,\n 0,\n 2,\n 8,\n 2,\n 0,\n 3,\n 0,\n 9,\n 2,\n 1,\n 1,\n 3,\n 0,\n 5,\n 5,\n 0,\n 7,\n 5,\n 6,\n 2,\n 0,\n 3,\n 8,\n 1,\n 6,\n 5,\n 4,\n 1,\n 1,\n 4,\n 6,\n 5,\n 3,\n 6,\n 0,\n 4,\n 8,\n 2,\n 4,\n 2,\n 5,\n 1,\n 7,\n 6,\n 9,\n 1,\n 7,\n 3,\n 8,\n 0,\n 8,\n 8,\n 4,\n 5,\n 3,\n 6,\n 6,\n 6,\n 0,\n 3,\n 5,\n 1,\n 7,\n 1,\n 6,\n 2,\n 8,\n 5,\n 6,\n 4,\n 7,\n 4,\n 3,\n 3,\n 2,\n 4,\n 7,\n 0,\n 0,\n 9,\n 8,\n 5,\n 9,\n 4,\n 0,\n 8,\n 8,\n 3,\n 6,\n 2,\n 6,\n 1,\n 8,\n 6,\n 1,\n 4,\n 7,\n 7,\n 8,\n 3,\n 0,\n 9,\n 9,\n 6,\n 7,\n 7,\n 4,\n 8,\n 1,\n 8,\n 4,\n 8,\n 0,\n 2,\n 8,\n 2,\n 4,\n 3,\n 3,\n 7,\n 2,\n 3,\n 4,\n 0,\n 4,\n 8,\n 1,\n 3,\n 3,\n 6,\n 3,\n 9,\n 4,\n 3,\n 8,\n 7,\n 7,\n 2,\n 6,\n 0,\n 6,\n 9,\n 8,\n 8,\n 1,\n 3,\n 4,\n 6,\n 9,\n 9,\n 2,\n 6,\n 0,\n 1,\n 8,\n 4,\n 3,\n 9,\n 8,\n 8,\n 4,\n 0,\n 5,\n 0,\n 6,\n 0,\n 4,\n 4,\n 6,\n 5,\n 1,\n 8,\n 1,\n 5,\n 3,\n 6,\n 2,\n 3,\n 7,\n 8,\n 9,\n 3,\n 1,\n 0,\n 1,\n 0,\n 6,\n 4,\n 7,\n 5,\n 7,\n 1,\n 3,\n 2,\n 7,\n 7,\n 1,\n 5,\n 1,\n 5,\n 4,\n 4,\n 3,\n 4,\n 3,\n 9,\n 0,\n 7,\n 8,\n 6,\n 4,\n 9,\n 4,\n 4,\n 1,\n 4,\n 7,\n 1,\n 1,\n 8,\n 3,\n 0,\n 4,\n 0,\n 4,\n 0,\n 0,\n 5,\n 1,\n 8,\n 6,\n 5,\n 0,\n 1,\n 5,\n 3,\n 4,\n 6,\n 3,\n 1,\n 1,\n 6,\n 9,\n 8,\n 3,\n 5,\n 5,\n 4,\n 8,\n 8,\n 5,\n 0,\n 4,\n 0,\n 4,\n 3,\n 1,\n 6,\n 9,\n 7,\n 1,\n 1,\n 3,\n 3,\n 1,\n 4,\n 9,\n 6,\n 9,\n 1,\n 5,\n 4,\n 2,\n 3,\n 2,\n 4,\n 0,\n 9,\n 7,\n 4,\n 3,\n 0,\n 5,\n 0,\n 1,\n 9,\n 0,\n 4,\n 5,\n 2,\n 8,\n 0,\n 5,\n 9,\n 3,\n 9,\n 6,\n 1,\n 5,\n 5,\n 1,\n 9,\n 0,\n 8,\n 4,\n 6,\n 7,\n 2,\n 8,\n 5,\n 8,\n 9,\n 7,\n 7,\n 2,\n 8,\n 1,\n 3,\n 4,\n 5,\n 0,\n 4,\n 1,\n 4,\n 2,\n 3,\n 6,\n 9,\n 2,\n 3,\n 4,\n 5,\n 4,\n 2,\n 3,\n 3,\n 1,\n 1,\n 0,\n 1,\n 4,\n 9,\n 1,\n 1,\n 2,\n 7,\n 1,\n 5,\n 4,\n 9,\n 1,\n 7,\n 6,\n 0,\n 4,\n 2,\n 9,\n 4,\n 1,\n 1,\n 5,\n 3,\n 5,\n 7,\n 4,\n 7,\n 8,\n 3,\n 2,\n 7,\n 2,\n 0,\n 4,\n 7,\n 1,\n 6,\n 4,\n 6,\n 1,\n 5,\n 7,\n 3,\n 5,\n 9,\n 4,\n 7,\n 9,\n 6,\n 6,\n 3,\n 3,\n 2,\n 1,\n 4,\n 5,\n 3,\n 7,\n 7,\n 9,\n 5,\n 6,\n 3,\n 6,\n 1,\n 0,\n 9,\n 3,\n 2,\n 9,\n 2,\n 6,\n 7,\n 5,\n 2,\n 3,\n 2,\n 8,\n 3,\n 0,\n 2,\n 7,\n 9,\n 4,\n 0,\n 9,\n 5,\n 1,\n 8,\n 8,\n 5,\n 3,\n 2,\n 9,\n 6,\n 7,\n 0,\n 8,\n 0,\n 7,\n 4,\n 5,\n 8,\n 7,\n 9,\n 7,\n 7,\n 0,\n 5,\n 3,\n 2,\n 1,\n 9,\n 0,\n 6,\n 8,\n 3,\n 6,\n 2,\n 2,\n 9,\n ...]"
     },
     "execution_count": 12,
     "metadata": {},
     "output_type": "execute_result"
    }
   ],
   "source": [
    "result = model.predict(x_test)\n",
    "r = []\n",
    "for i in result:\n",
    "    r.append(np.argmax(i))\n",
    "r"
   ],
   "metadata": {
    "collapsed": false
   }
  },
  {
   "cell_type": "code",
   "execution_count": 14,
   "outputs": [],
   "source": [
    "res_csv = pd.read_csv(\"sample_submission.csv\")\n",
    "res_csv.Label = r\n",
    "res_csv.to_csv(\"result_kaggle.csv\", index=False)"
   ],
   "metadata": {
    "collapsed": false
   }
  },
  {
   "cell_type": "code",
   "execution_count": null,
   "outputs": [],
   "source": [],
   "metadata": {
    "collapsed": false
   }
  }
 ],
 "metadata": {
  "kernelspec": {
   "display_name": "Python 3",
   "language": "python",
   "name": "python3"
  },
  "language_info": {
   "codemirror_mode": {
    "name": "ipython",
    "version": 2
   },
   "file_extension": ".py",
   "mimetype": "text/x-python",
   "name": "python",
   "nbconvert_exporter": "python",
   "pygments_lexer": "ipython2",
   "version": "2.7.6"
  }
 },
 "nbformat": 4,
 "nbformat_minor": 0
}
